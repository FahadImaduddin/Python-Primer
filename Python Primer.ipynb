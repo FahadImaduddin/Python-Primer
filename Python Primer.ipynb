{
 "cells": [
  {
   "cell_type": "code",
   "execution_count": null,
   "metadata": {},
   "outputs": [],
   "source": [
    "abubakr = '''First caliph. \n",
    "A companion Prophet Mohammad Peace Be Upon Him!!'''\n",
    "print(abubakr)"
   ]
  },
  {
   "cell_type": "code",
   "execution_count": null,
   "metadata": {},
   "outputs": [],
   "source": [
    "silly_string = '''He said, \"Aren't can't shouldn't wouldn't.\"'''\n",
    "single_quote_str = 'He said, \"Aren\\'t can\\'t shouldn\\'t wouldn\\'t.\"'\n",
    "double_quote_str = \"He said, \\\"Aren't can't shouldn't wouldn't.\\\"\"\n",
    "print(silly_string)\n",
    "print(single_quote_str)\n",
    "print(double_quote_str)"
   ]
  },
  {
   "cell_type": "code",
   "execution_count": null,
   "metadata": {},
   "outputs": [],
   "source": [
    "myscore = 1000\n",
    "message = 'I scored %s points'\n",
    "print(message % myscore)"
   ]
  },
  {
   "cell_type": "code",
   "execution_count": null,
   "metadata": {},
   "outputs": [],
   "source": [
    "nums = 'What did the number %s say to the number %s? Nice Belt!!'\n",
    "print(nums % (0,8))"
   ]
  },
  {
   "cell_type": "code",
   "execution_count": null,
   "metadata": {},
   "outputs": [],
   "source": [
    "print(10 * 'a')"
   ]
  },
  {
   "cell_type": "code",
   "execution_count": null,
   "metadata": {},
   "outputs": [],
   "source": [
    "spaces = ' ' * 25\n",
    "# print( '%s %s %s' \n",
    "# '''12 DHA Phase 5 \n",
    "#    Clifton \n",
    "#    West Snoring\n",
    "# ''' % spaces % spaces % spaces\n",
    "#      )\n",
    "print('%s 12 DHA Phase 5' % spaces)\n",
    "print('%s Clifton' % spaces)\n",
    "print('%s West Snoring' % spaces)\n",
    "print('''\n",
    "\n",
    "Dear Sir \n",
    "\n",
    "I wish to report that tiles are missing from the \n",
    "outside toilet roof.\n",
    "I think it was had wind the other night that blew them away.\n",
    "\n",
    "Regards\n",
    "Sharfoo''')\n",
    "\n"
   ]
  },
  {
   "cell_type": "code",
   "execution_count": null,
   "metadata": {},
   "outputs": [],
   "source": [
    "sharfoo_list = ['Briyani','Pizza','Tikka','Burger']\n",
    "print(sharfoo_list)\n",
    "print(sharfoo_list[3])\n",
    "print(sharfoo_list[0:2])"
   ]
  },
  {
   "cell_type": "code",
   "execution_count": null,
   "metadata": {},
   "outputs": [],
   "source": [
    "some_number = [1,2,3,4,5,6]\n",
    "some_strings = ['Which','Witch','Is','Which']\n",
    "print(some_number)\n",
    "print(some_strings)"
   ]
  },
  {
   "cell_type": "code",
   "execution_count": null,
   "metadata": {},
   "outputs": [],
   "source": [
    "numbers_and_strings = ['Why','was',6,'afraid','of',7,'because',7,8,9]\n",
    "print(numbers_and_strings)\n"
   ]
  },
  {
   "cell_type": "code",
   "execution_count": null,
   "metadata": {},
   "outputs": [],
   "source": [
    "numbers = [1,2,3,4]\n",
    "strings = ['I','Kicked','my','toe','and','it','is','sore']\n",
    "mylist = [numbers,strings]\n",
    "print(mylist)"
   ]
  },
  {
   "cell_type": "code",
   "execution_count": null,
   "metadata": {},
   "outputs": [],
   "source": [
    "wizard_list = ['spider legs','toe of frog','eye of newt','bat wing','slug butter','snake dandruff']\n",
    "print(wizard_list)\n",
    "wizard_list.append('bear burp')\n",
    "wizard_list.append('hemlock')\n",
    "wizard_list.append('swamp gas')\n",
    "print(wizard_list)"
   ]
  },
  {
   "cell_type": "code",
   "execution_count": null,
   "metadata": {},
   "outputs": [],
   "source": [
    "wizard_list = ['spider legs','toe of frog','eye of newt','bat wing','slug butter','snake dandruff']\n",
    "print(wizard_list)\n",
    "wizard_list.append('bear burp')\n",
    "del wizard_list[5]\n",
    "print(wizard_list)"
   ]
  },
  {
   "cell_type": "code",
   "execution_count": null,
   "metadata": {},
   "outputs": [],
   "source": [
    "list1 = [2,4,6,8,10]\n",
    "list2 = ['I','ate','chocolate','and','I','want','more']\n",
    "list3 = [list1 + list2]\n",
    "print(list3)"
   ]
  },
  {
   "cell_type": "code",
   "execution_count": null,
   "metadata": {},
   "outputs": [],
   "source": [
    "list1 = [0,1]\n",
    "print(list1 * 5)\n"
   ]
  },
  {
   "cell_type": "code",
   "execution_count": null,
   "metadata": {},
   "outputs": [],
   "source": [
    "fibs = (0,1,1,3,4,5,6)\n",
    "print(fibs[4]) "
   ]
  },
  {
   "cell_type": "code",
   "execution_count": null,
   "metadata": {},
   "outputs": [],
   "source": [
    "# Creating a map in Python\n",
    "favorite_sports = ['Ali,Football','Omer,Basketball','Osman,Baseball','Abu Bakr,Netball','Faitma,Badminton','Faizan,Rugby']\n",
    "print(favorite_sports)"
   ]
  },
  {
   "cell_type": "code",
   "execution_count": null,
   "metadata": {},
   "outputs": [],
   "source": [
    "# Modifying a value in a map.\n",
    "favorite_sports = {'Ali':'Football','Omer':'Basketball','Osman':'Baseball','Abu Bakr':'Netball','Faitma':'Badminton','Faizan':'Rugby'}\n",
    "print(favorite_sports)\n",
    "print(favorite_sports['Ali'])\n",
    "del favorite_sports['Ali']\n",
    "print(favorite_sports)\n",
    "favorite_sports['Omer'] = 'Circket'\n",
    "print(favorite_sports)"
   ]
  },
  {
   "cell_type": "code",
   "execution_count": null,
   "metadata": {},
   "outputs": [],
   "source": [
    "# If Statement\n",
    "age = 21 \n",
    "if age > 20:\n",
    "    print('You are too old')"
   ]
  },
  {
   "cell_type": "code",
   "execution_count": null,
   "metadata": {},
   "outputs": [],
   "source": [
    "age = 21\n",
    "if age > 20:\n",
    "    print('You are too old!')\n",
    "    print('Why are you here?')\n",
    "    print('Why aren\\'t mowing a lawn or sorting papers?')"
   ]
  },
  {
   "cell_type": "code",
   "execution_count": null,
   "metadata": {},
   "outputs": [],
   "source": [
    "age = 12 \n",
    "if age == 10:\n",
    "    print('What do you call an unhappy cranberry?')\n",
    "    print('A blueberry!')\n",
    "elif age == 11:\n",
    "    print('What did the green grape say to the blue grape?')\n",
    "    print('Breathe! Breathe!')\n",
    "elif age == 12:\n",
    "    print('What did 0 say to 8?')\n",
    "    print('Hi guys?')\n",
    "elif age == 13:\n",
    "    print('Why wan\\'t 10 afraid of 7?')\n",
    "    print('Because rather than eating 9,7 8pi.')\n",
    "else:\n",
    "    print('Huh?')"
   ]
  },
  {
   "cell_type": "code",
   "execution_count": null,
   "metadata": {},
   "outputs": [],
   "source": [
    "age = 10\n",
    "if age == 10 or age == 11 or age == 12 or age == 13:\n",
    "    print('What is 13 + 49 + 84 + 155 + 97? A headache!')\n",
    "else:\n",
    "    print('Huh?')"
   ]
  },
  {
   "cell_type": "code",
   "execution_count": null,
   "metadata": {},
   "outputs": [],
   "source": [
    "age = 10\n",
    "if age >= 10 and age <= 13:\n",
    "    print('What is 13 + 49 + 84 + 155 + 97? A headache!')\n",
    "else:\n",
    "    print('Huh?')"
   ]
  },
  {
   "cell_type": "code",
   "execution_count": null,
   "metadata": {},
   "outputs": [],
   "source": [
    "myval = None\n",
    "if myval == None:\n",
    "    print('The variable myval doesn\\'t have a value')"
   ]
  },
  {
   "cell_type": "code",
   "execution_count": null,
   "metadata": {},
   "outputs": [],
   "source": [
    "age = 10\n",
    "if age == 10:\n",
    "    print('You are too old for my jokes!')"
   ]
  },
  {
   "cell_type": "code",
   "execution_count": null,
   "metadata": {},
   "outputs": [],
   "source": [
    "print('Want to hear a dirty joke?')\n",
    "age = 11\n",
    "if age == 12:\n",
    "    print('A pig fell in the mud!')\n",
    "else:\n",
    "    print('Shh. It\\'s a secret.')\n",
    "    "
   ]
  },
  {
   "cell_type": "code",
   "execution_count": null,
   "metadata": {},
   "outputs": [],
   "source": [
    "age = '10'\n",
    "converted_age = int(age)\n",
    "if converted_age == 10:\n",
    "    print('What the best way to speak to monster?')\n",
    "    print('From as far way as possible!')"
   ]
  },
  {
   "cell_type": "code",
   "execution_count": null,
   "metadata": {},
   "outputs": [],
   "source": [
    "age = 10\n",
    "converted_age = str(age)\n",
    "if converted_age == '10':\n",
    "    print('What the best way to speak to monster?')\n",
    "    print('From as far way as possible!')"
   ]
  },
  {
   "cell_type": "code",
   "execution_count": null,
   "metadata": {},
   "outputs": [],
   "source": [
    "age = '10.5'\n",
    "converted_age = float(age)\n",
    "if converted_age == 10.5:\n",
    "    print('What the best way to speak to monster?')\n",
    "    print('From as far way as possible!')"
   ]
  },
  {
   "cell_type": "code",
   "execution_count": null,
   "metadata": {},
   "outputs": [],
   "source": [
    "for x in range(0,5):\n",
    "    print('Salam')"
   ]
  },
  {
   "cell_type": "code",
   "execution_count": null,
   "metadata": {},
   "outputs": [],
   "source": [
    "# Using Range and list together\n",
    "print(list(range(0,11)))"
   ]
  },
  {
   "cell_type": "code",
   "execution_count": null,
   "metadata": {},
   "outputs": [],
   "source": [
    "for x in range(0,5):\n",
    "    print('Salam %s' %x)"
   ]
  },
  {
   "cell_type": "code",
   "execution_count": null,
   "metadata": {},
   "outputs": [],
   "source": [
    "wizard_list = ['spider legs','toe of frog','eye of newt','bat wing','slug butter','snake dandruff']\n",
    "for i in wizard_list:\n",
    "    print(i)"
   ]
  },
  {
   "cell_type": "code",
   "execution_count": null,
   "metadata": {},
   "outputs": [],
   "source": [
    "hugehairypants = ['huge','hairy','pants']\n",
    "for i in hugehairypants:\n",
    "    print(i)\n",
    "    print(i)"
   ]
  },
  {
   "cell_type": "code",
   "execution_count": null,
   "metadata": {},
   "outputs": [],
   "source": [
    "hugehairypants = ['huge','hairy','pants']\n",
    "for i in hugehairypants:\n",
    "    print(i)\n",
    "    for j in hugehairypants:\n",
    "        print(j)  "
   ]
  },
  {
   "cell_type": "code",
   "execution_count": null,
   "metadata": {},
   "outputs": [],
   "source": [
    "x,y = 45,80\n",
    "while x < 50 and y < 100:\n",
    "    x = x + 1\n",
    "    y = y + 1\n",
    "    print(x,y)"
   ]
  },
  {
   "cell_type": "code",
   "execution_count": null,
   "metadata": {},
   "outputs": [],
   "source": [
    "list(range(0,100))"
   ]
  },
  {
   "cell_type": "code",
   "execution_count": null,
   "metadata": {},
   "outputs": [],
   "source": [
    "testfunc('Imaduddin')\n",
    "\n",
    "def testfunc(myname):\n",
    "    print('Fahad %s' % myname)"
   ]
  },
  {
   "cell_type": "code",
   "execution_count": null,
   "metadata": {},
   "outputs": [],
   "source": [
    "testfunc('Mohammad','Ali')\n",
    "\n",
    "def testfunc(fname,lname):\n",
    "    testfunc('Mohammad','Ali') \n",
    "    print('Hello %s %s' % (fname,lname))"
   ]
  },
  {
   "cell_type": "code",
   "execution_count": null,
   "metadata": {},
   "outputs": [],
   "source": [
    "firstname = 'Mohammad'\n",
    "lastname = 'Omer'\n",
    "print(firstname,lastname)"
   ]
  },
  {
   "cell_type": "code",
   "execution_count": null,
   "metadata": {},
   "outputs": [],
   "source": [
    "def variable_test():\n",
    "    first_variable = 10\n",
    "    second_variable = 20\n",
    "    return first_variable * second_variable\n",
    "print(variable_test())"
   ]
  },
  {
   "cell_type": "code",
   "execution_count": null,
   "metadata": {},
   "outputs": [],
   "source": [
    "another_variable = 100\n",
    "def variable_test2():\n",
    "    first_variable = 10\n",
    "    second_variable = 20\n",
    "    return first_variable * second_variable * another_variable\n",
    "print(variable_test2())"
   ]
  },
  {
   "cell_type": "code",
   "execution_count": null,
   "metadata": {},
   "outputs": [],
   "source": [
    "import time\n",
    "print(time.asctime())"
   ]
  },
  {
   "cell_type": "code",
   "execution_count": null,
   "metadata": {},
   "outputs": [],
   "source": [
    "age = 11\n",
    "if age >= 10 and age <= 13:\n",
    "    print('What is 13 + 49 + 84 + 155 + 97? A headache!')\n",
    "else:\n",
    "    print('Huh?')"
   ]
  },
  {
   "cell_type": "code",
   "execution_count": null,
   "metadata": {},
   "outputs": [],
   "source": [
    "class Things:\n",
    "    pass\n",
    "class Inanimate(Things):\n",
    "    pass\n",
    "class Animate(Things):\n",
    "    pass\n",
    "class sidewalks(Inanimate):\n",
    "    pass\n",
    "class Mammals(Animate):\n",
    "    pass\n",
    "class Animals(Animate):\n",
    "    pass\n",
    "class Humans(Animate):\n",
    "    pass\n",
    "class Giraffes(Mammals):\n",
    "    pass\n",
    "class Cow(Animals):\n",
    "    pass\n",
    "class Fahad_Imaduddin(Humans):\n",
    "    pass"
   ]
  },
  {
   "cell_type": "code",
   "execution_count": null,
   "metadata": {},
   "outputs": [],
   "source": [
    "def this_is_a_normal_function():\n",
    "    print('I am a normal funtion')\n",
    "    \n",
    "class ThisIsMySillyClass:\n",
    "    def this_is_a_class_function():\n",
    "        print('I am a class function')\n",
    "    def this_is_also_a_class_function():\n",
    "        print('I am also a class function. See?')"
   ]
  },
  {
   "cell_type": "code",
   "execution_count": null,
   "metadata": {},
   "outputs": [],
   "source": [
    "class Animals(Animate):\n",
    "    def breathe(self):\n",
    "        pass\n",
    "    def move(self):\n",
    "        pass\n",
    "    def eat_food(self):\n",
    "        pass"
   ]
  },
  {
   "cell_type": "code",
   "execution_count": null,
   "metadata": {},
   "outputs": [],
   "source": [
    "#random Integer number\n",
    "integer = -20\n",
    "print('Absolute value of -20 is:',abs(integer))\n",
    "\n",
    "#random floating number\n",
    "floating = -20.323\n",
    "print('Floating value of -20.323 is:',abs(floating))\n",
    "\n",
    "#random complex number\n",
    "complex =  i2 = -1\n",
    "print('Complex value of i2 is:',abs(complex))"
   ]
  },
  {
   "cell_type": "code",
   "execution_count": null,
   "metadata": {},
   "outputs": [],
   "source": [
    "test = []\n",
    "print(test,'is',bool(test))\n",
    "\n",
    "test = [0]\n",
    "print(test,'is',bool(test))\n",
    "\n",
    "test = 0.0\n",
    "print(test,'is',bool(test))\n"
   ]
  },
  {
   "cell_type": "code",
   "execution_count": null,
   "metadata": {},
   "outputs": [],
   "source": [
    "test = None\n",
    "print(test,'is',bool(test))\n",
    "\n",
    "test = True\n",
    "print(test,'is',bool(test))\n",
    "\n",
    "test = 'Esay String'\n",
    "print(test,'is',bool(test))\n"
   ]
  },
  {
   "cell_type": "code",
   "execution_count": null,
   "metadata": {},
   "outputs": [],
   "source": [
    "Number = [1,2,3]\n",
    "print(dir(Number))"
   ]
  },
  {
   "cell_type": "code",
   "execution_count": null,
   "metadata": {},
   "outputs": [],
   "source": [
    "print('\\nReturn Value from empty dir()')\n",
    "print(dir())\n",
    "\n",
    "print('\\nReturn Value from windows dir(C:\\Windows)')\n",
    "print(dir())\n"
   ]
  }
 ],
 "metadata": {
  "kernelspec": {
   "display_name": "Python 3",
   "language": "python",
   "name": "python3"
  },
  "language_info": {
   "codemirror_mode": {
    "name": "ipython",
    "version": 3
   },
   "file_extension": ".py",
   "mimetype": "text/x-python",
   "name": "python",
   "nbconvert_exporter": "python",
   "pygments_lexer": "ipython3",
   "version": "3.8.5"
  }
 },
 "nbformat": 4,
 "nbformat_minor": 4
}
